{
 "cells": [
  {
   "cell_type": "markdown",
   "id": "2c3739da-729c-4ccd-a2b0-320f962fe6ec",
   "metadata": {},
   "source": [
    "# CS-141 Homework 1"
   ]
  },
  {
   "cell_type": "code",
   "execution_count": 1,
   "id": "6c783b1a-a93c-4af5-890b-0ff5e47d5dcc",
   "metadata": {},
   "outputs": [],
   "source": [
    "import numpy as np"
   ]
  },
  {
   "cell_type": "code",
   "execution_count": 2,
   "id": "83697848-1cd1-4638-baf1-84ed29ca0908",
   "metadata": {},
   "outputs": [
    {
     "name": "stdout",
     "output_type": "stream",
     "text": [
      "[]\n",
      "[[-0.13527652]]\n",
      "[[0.12303266]]\n",
      "[[-1.09575838]]\n",
      "[[0.01805445]]\n",
      "[[-0.86844732]]\n"
     ]
    }
   ],
   "source": [
    "# Question 1.3: Implement state prediction step of Kalman filter\n",
    "\n",
    "# Assume at t=0, pos, vel, and accel = 0\n",
    "# Calculate state disrtibution for times t = 1,2,...,5\n",
    "\n",
    "# Create a state vector for number of time steps t\n",
    "X = np.array([[]])\n",
    "print(X)\n",
    "\n",
    "# Initialize resting state \n",
    "x_0 = np.array([[1], [0]])\n",
    "# print(x_0)\n",
    "\n",
    "dt = 1 # Assume delta t is 1 second\n",
    "muh_a = 0 # avg accel\n",
    "sigma_a = 1 # \n",
    "\n",
    "# State transition \n",
    "# Linear matrices A and B\n",
    "A = np.array([[1, dt], [0, 1]])\n",
    "# print(A)\n",
    "B = np.array([[.5*dt**2], [dt]])\n",
    "# print(B)\n",
    "t = 0\n",
    "\n",
    "t_total = 5 # Total time in seconds\n",
    "t_steps = int(t_total/dt) # Time steps \n",
    "\n",
    "for i in range(t_steps):\n",
    "    # Random sample for accel using normal dist\n",
    "    u_t = np.random.normal(muh_a, sigma_a, size=(1,1))\n",
    "    print(u_t)\n",
    "    "
   ]
  },
  {
   "cell_type": "code",
   "execution_count": null,
   "id": "bf57ace6-06c4-4cbc-aa8b-b33f6217de43",
   "metadata": {},
   "outputs": [],
   "source": []
  },
  {
   "cell_type": "code",
   "execution_count": null,
   "id": "8533d662-87bf-46c8-88e9-9f3ab472e246",
   "metadata": {},
   "outputs": [],
   "source": []
  }
 ],
 "metadata": {
  "kernelspec": {
   "display_name": "Python 3 (ipykernel)",
   "language": "python",
   "name": "python3"
  },
  "language_info": {
   "codemirror_mode": {
    "name": "ipython",
    "version": 3
   },
   "file_extension": ".py",
   "mimetype": "text/x-python",
   "name": "python",
   "nbconvert_exporter": "python",
   "pygments_lexer": "ipython3",
   "version": "3.9.18"
  }
 },
 "nbformat": 4,
 "nbformat_minor": 5
}
