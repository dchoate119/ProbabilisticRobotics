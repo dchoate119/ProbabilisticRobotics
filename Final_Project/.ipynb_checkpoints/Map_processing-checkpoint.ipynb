{
 "cells": [
  {
   "cell_type": "markdown",
   "id": "85732936-0c43-4ccd-8558-76f86ea1862f",
   "metadata": {},
   "source": [
    "# Post-Processing Gmapping results"
   ]
  },
  {
   "cell_type": "code",
   "execution_count": 1,
   "id": "d2202025-cc77-4088-a118-27f10ed3fa59",
   "metadata": {},
   "outputs": [],
   "source": [
    "import cv2\n",
    "import numpy as np "
   ]
  },
  {
   "cell_type": "code",
   "execution_count": 11,
   "id": "092a3af5-5181-454d-8569-05e159062a39",
   "metadata": {},
   "outputs": [
    {
     "name": "stdout",
     "output_type": "stream",
     "text": [
      "(256, 256)\n",
      "The selected pixel ratio is 75 x 75\n",
      "(75, 75)\n",
      "(400, 400)\n"
     ]
    }
   ],
   "source": [
    "# Import old map \n",
    "map_image = cv2.imread(\"test_map.pgm\", cv2.IMREAD_GRAYSCALE)\n",
    "print(map_image.shape)\n",
    "\n",
    "# Specify the desired dimensions to crop specific pictures \n",
    "width_s = 0\n",
    "width_e = width_s + 75 # desired width in pixels\n",
    "height_s = 0\n",
    "height_e = height_s + 75  # desired height in pixels\n",
    "\n",
    "print('The selected pixel ratio is', width_e-width_s, 'x', height_e-height_s)\n",
    "\n",
    "# Crop the image \n",
    "im_crop = map_image[height_s:height_e, width_s:width_e] #, height_s:height_e]\n",
    "# print(im_crop.size)\n",
    "print(im_crop.shape)\n",
    "\n",
    "# Resize the image \n",
    "width_n = 400\n",
    "height_n = 400\n",
    "new_dim = (width_n, height_n)\n",
    "im_res = cv2.resize(im_crop, new_dim)\n",
    "print(im_res.shape)\n",
    "\n",
    "\n",
    "\n",
    "# Apply Gaussian blur to smooth edges\n",
    "blurred_map = cv2.GaussianBlur(im_res, (15, 15), 0)\n",
    "\n",
    "cv2.imshow('Blurred Map', blurred_map)\n",
    "cv2.imshow('Original Map', im_res)\n",
    "cv2.waitKey(0)\n",
    "cv2.destroyAllWindows()\n",
    "\n"
   ]
  },
  {
   "cell_type": "code",
   "execution_count": 16,
   "id": "ad54ce2e-fee7-42cd-9db0-4997ee9f3226",
   "metadata": {},
   "outputs": [],
   "source": [
    "# Optional: Apply thresholding to make edges sharper\n",
    "_, thresholded_map = cv2.threshold(blurred_map, 128, 255, cv2.THRESH_BINARY)\n",
    "# Optional: Dilate to fill small gaps\n",
    "kernel = np.ones((2, 2), np.uint8)\n",
    "dilated_map = cv2.dilate(thresholded_map, kernel, iterations=1)\n",
    "\n",
    "cv2.imshow('Thesholded map', thresholded_map)\n",
    "cv2.imshow('Dilated Map', dilated_map)\n",
    "cv2.imshow('Original resized', im_res)\n",
    "cv2.waitKey(0)\n",
    "cv2.destroyAllWindows()"
   ]
  },
  {
   "cell_type": "code",
   "execution_count": null,
   "id": "a6a54f0e-3d37-45eb-b345-443724d2011e",
   "metadata": {},
   "outputs": [],
   "source": []
  }
 ],
 "metadata": {
  "kernelspec": {
   "display_name": "Python 3 (ipykernel)",
   "language": "python",
   "name": "python3"
  },
  "language_info": {
   "codemirror_mode": {
    "name": "ipython",
    "version": 3
   },
   "file_extension": ".py",
   "mimetype": "text/x-python",
   "name": "python",
   "nbconvert_exporter": "python",
   "pygments_lexer": "ipython3",
   "version": "3.9.18"
  }
 },
 "nbformat": 4,
 "nbformat_minor": 5
}
