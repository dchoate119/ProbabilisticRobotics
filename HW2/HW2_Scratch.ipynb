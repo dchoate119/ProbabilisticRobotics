{
 "cells": [
  {
   "cell_type": "markdown",
   "id": "cacb0ccb-97f4-455e-8ba0-59bf69150f0c",
   "metadata": {},
   "source": [
    "# CS-141 Homework 2"
   ]
  },
  {
   "cell_type": "code",
   "execution_count": 1,
   "id": "c7e431a8-5853-4a3b-afba-b22bbf246749",
   "metadata": {},
   "outputs": [
    {
     "data": {
      "application/javascript": [
       "IPython.notebook.set_autosave_interval(180000)"
      ]
     },
     "metadata": {},
     "output_type": "display_data"
    },
    {
     "name": "stdout",
     "output_type": "stream",
     "text": [
      "Autosaving every 180 seconds\n"
     ]
    }
   ],
   "source": [
    "import numpy as np \n",
    "import matplotlib as plt\n",
    "import cv2\n",
    "\n",
    "# Autosave work \n",
    "%load_ext autoreload\n",
    "%autoreload 2\n",
    "%autosave 180"
   ]
  },
  {
   "cell_type": "code",
   "execution_count": 22,
   "id": "4424c4c6-5131-49ea-97e4-3ffd90621b04",
   "metadata": {},
   "outputs": [
    {
     "name": "stdout",
     "output_type": "stream",
     "text": [
      "\n",
      " The range in the x and y directions is (12,9) units \n",
      "\n",
      "\n",
      " The initial state vector x = [[8]\n",
      " [9]] \n",
      "\n"
     ]
    }
   ],
   "source": [
    "# Upload image of choice \n",
    "map = cv2.imread('BayMap.png')\n",
    "# map = cv2.imread('CityMap.png')\n",
    "# map = cv2.imread('MarioMap.png')\n",
    "# print(map.shape) # printed as height, width \n",
    "\n",
    "# Calculate the range of the map\n",
    "# NOTE: 1 unit = 50 pixels\n",
    "range_x = ((map.shape[1])//2)//50\n",
    "range_y = ((map.shape[0])//2)//50\n",
    "print(f'\\n The range in the x and y directions is ({range_x},{range_y}) units \\n')\n",
    "\n",
    "# Simulate a drone's starting position x and y\n",
    "pos_x = np.random.randint(-9, 10)\n",
    "# print(pos_x)\n",
    "pos_y = np.random.randint(-9, 10)\n",
    "# print(pos_y)\n",
    "state_ini = np.array([[pos_x], [pos_y]])\n",
    "print(f'\\n The initial state vector x = {state_ini} \\n')\n",
    "\n"
   ]
  },
  {
   "cell_type": "code",
   "execution_count": 20,
   "id": "5dc94503-7ef3-4ccf-abfd-05bbebbf0207",
   "metadata": {},
   "outputs": [
    {
     "name": "stdout",
     "output_type": "stream",
     "text": [
      "-9\n",
      "-8\n",
      "\n",
      " The initial state vector x = [[-9]\n",
      " [-8]] \n",
      "\n"
     ]
    }
   ],
   "source": [
    "\n",
    "\n",
    "# # Specify the desired dimensions to crop specific pictures \n",
    "# width_s = 350\n",
    "# width_e = width_s + 200 # desired width in pixels\n",
    "# height_s = 50\n",
    "# height_e = height_s + 400  # desired height in pixels\n",
    "\n",
    "# print('The selected pixel ratio is', width_e-width_s, 'x', height_e-height_s)\n",
    "\n",
    "# # Crop the image \n",
    "# im_crop = im[height_s:height_e, width_s:width_e] #, height_s:height_e]\n",
    "# # print(im_crop.size)\n",
    "# print(im_crop.shape)\n",
    "\n",
    "\n",
    "# # Display the image\n",
    "# # Can do with opencv\n",
    "# cv2.imshow('Resized Image', map)\n",
    "# # Display the cropped image\n",
    "# # cv2.imshow('Resized Image', im_fin)\n",
    "\n",
    "# cv2.waitKey(0)\n",
    "# cv2.destroyAllWindows()\n"
   ]
  },
  {
   "cell_type": "code",
   "execution_count": null,
   "id": "421d953a-560f-45f9-a4cc-d95e2784dc9f",
   "metadata": {},
   "outputs": [],
   "source": []
  }
 ],
 "metadata": {
  "kernelspec": {
   "display_name": "Python 3 (ipykernel)",
   "language": "python",
   "name": "python3"
  },
  "language_info": {
   "codemirror_mode": {
    "name": "ipython",
    "version": 3
   },
   "file_extension": ".py",
   "mimetype": "text/x-python",
   "name": "python",
   "nbconvert_exporter": "python",
   "pygments_lexer": "ipython3",
   "version": "3.9.18"
  }
 },
 "nbformat": 4,
 "nbformat_minor": 5
}
