{
 "cells": [
  {
   "cell_type": "markdown",
   "id": "cacb0ccb-97f4-455e-8ba0-59bf69150f0c",
   "metadata": {},
   "source": [
    "# CS-141 Homework 2"
   ]
  },
  {
   "cell_type": "code",
   "execution_count": null,
   "id": "c7e431a8-5853-4a3b-afba-b22bbf246749",
   "metadata": {},
   "outputs": [],
   "source": [
    "import numpy as np \n",
    "import matplotlib as plt\n",
    "\n",
    "\n",
    "# Autosave work \n",
    "%load_ext autoreload\n",
    "%autoreload 2\n",
    "%autosave 180"
   ]
  }
 ],
 "metadata": {
  "kernelspec": {
   "display_name": "Python 3 (ipykernel)",
   "language": "python",
   "name": "python3"
  },
  "language_info": {
   "codemirror_mode": {
    "name": "ipython",
    "version": 3
   },
   "file_extension": ".py",
   "mimetype": "text/x-python",
   "name": "python",
   "nbconvert_exporter": "python",
   "pygments_lexer": "ipython3",
   "version": "3.9.18"
  }
 },
 "nbformat": 4,
 "nbformat_minor": 5
}
